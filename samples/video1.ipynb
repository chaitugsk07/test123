{
 "cells": [
  {
   "cell_type": "code",
   "execution_count": 9,
   "metadata": {},
   "outputs": [
    {
     "data": {
      "text/plain": [
       "0"
      ]
     },
     "execution_count": 9,
     "metadata": {},
     "output_type": "execute_result"
    }
   ],
   "source": [
    "import cv2\n",
    "import requests\n",
    "import numpy as np\n",
    "import os\n",
    "import subprocess\n",
    "import math\n",
    "\n",
    "def download_image(url, path,):\n",
    "    if not os.path.exists(path):\n",
    "        os.makedirs(path)\n",
    "    path_components = os.path.splitext(url)\n",
    "    filename = os.path.basename(path_components[0])\n",
    "    filename = filename + '.jpg'  # Change the file extension to '.jpg'\n",
    "    response = requests.get(url)\n",
    "    img_array = np.array(bytearray(response.content), dtype=np.uint8)\n",
    "    img = cv2.imdecode(img_array, cv2.IMREAD_COLOR)\n",
    "    # Convert the result to an integer\n",
    "    img = cv2.resize(img, (new_width, new_height)) \n",
    "    cv2.imwrite(os.path.join(path, filename), img)\n",
    "    return filename\n",
    "\n",
    "def convert_odd_to_even(n):\n",
    "    if n % 2 == 0:\n",
    "        # If n is already even, return it\n",
    "        return n\n",
    "    else:\n",
    "        # If n is odd, add 1 and round up to the nearest even number\n",
    "        return int(math.ceil((n + 1) / 2) * 2)\n",
    "    \n",
    "new_height = convert_odd_to_even(int(1080))\n",
    "new_width = convert_odd_to_even(int(new_height * 9 / 16))\n",
    "background_folder = 'background'\n",
    "logo_folder = 'logo'\n",
    "temp_folder = 'temp'\n",
    "cmd = ['ffmpeg', '-y']\n",
    "bgimage_path = \"https://i.pinimg.com/564x/ad/c6/85/adc685fee66ede448182584111b70292.jpg\"\n",
    "bgpath = background_folder + \"//\" + download_image(bgimage_path, background_folder)\n",
    "cmd.extend(['-loop', '1', '-i', bgpath])\n",
    "output_path = \"generated/output1.mp4\"\n",
    "duration = 10\n",
    "\n",
    "cmd.extend(['-t', str(duration), '-vcodec', 'libx264', output_path])\n",
    "subprocess.call(cmd, shell=True)"
   ]
  },
  {
   "cell_type": "code",
   "execution_count": 13,
   "metadata": {},
   "outputs": [
    {
     "ename": "ImportError",
     "evalue": "cannot import name 'build_namedtuple' from 'lottie.utils' (c:\\Users\\gskch\\anaconda3\\envs\\rss1\\Lib\\site-packages\\lottie\\utils\\__init__.py)",
     "output_type": "error",
     "traceback": [
      "\u001b[1;31m---------------------------------------------------------------------------\u001b[0m",
      "\u001b[1;31mImportError\u001b[0m                               Traceback (most recent call last)",
      "\u001b[1;32mc:\\D_drive\\11_synopse\\30_git\\test123\\samples\\video1.ipynb Cell 2\u001b[0m line \u001b[0;36m2\n\u001b[0;32m      <a href='vscode-notebook-cell:/c%3A/D_drive/11_synopse/30_git/test123/samples/video1.ipynb#W2sZmlsZQ%3D%3D?line=0'>1</a>\u001b[0m \u001b[39mimport\u001b[39;00m \u001b[39mlottie\u001b[39;00m\n\u001b[1;32m----> <a href='vscode-notebook-cell:/c%3A/D_drive/11_synopse/30_git/test123/samples/video1.ipynb#W2sZmlsZQ%3D%3D?line=1'>2</a>\u001b[0m \u001b[39mfrom\u001b[39;00m \u001b[39mlottie\u001b[39;00m\u001b[39m.\u001b[39;00m\u001b[39mutils\u001b[39;00m \u001b[39mimport\u001b[39;00m build_namedtuple\n\u001b[0;32m      <a href='vscode-notebook-cell:/c%3A/D_drive/11_synopse/30_git/test123/samples/video1.ipynb#W2sZmlsZQ%3D%3D?line=3'>4</a>\u001b[0m \u001b[39m# Create a Lottie composition\u001b[39;00m\n\u001b[0;32m      <a href='vscode-notebook-cell:/c%3A/D_drive/11_synopse/30_git/test123/samples/video1.ipynb#W2sZmlsZQ%3D%3D?line=4'>5</a>\u001b[0m composition \u001b[39m=\u001b[39m lottie\u001b[39m.\u001b[39mComposition()\n",
      "\u001b[1;31mImportError\u001b[0m: cannot import name 'build_namedtuple' from 'lottie.utils' (c:\\Users\\gskch\\anaconda3\\envs\\rss1\\Lib\\site-packages\\lottie\\utils\\__init__.py)"
     ]
    }
   ],
   "source": [
    "import lottie\n",
    "from lottie.utils import build_namedtuple\n",
    "\n",
    "# Create a Lottie composition\n",
    "composition = lottie.Composition()\n",
    "composition.w = 400  # Width of the animation\n",
    "composition.h = 400  # Height of the animation\n",
    "composition.ip = 0  # In point\n",
    "composition.op = 100  # Out point\n",
    "\n",
    "# Create a shape layer\n",
    "shape_layer = lottie.shapes.CircleShape()\n",
    "\n",
    "# Create a stroke\n",
    "stroke = lottie.shapes.Stroke()\n",
    "stroke.width = build_namedtuple('Size', [0.0, 0.0])\n",
    "stroke.color = build_namedtuple('Color', [1.0, 0.0, 0.0, 1.0])  # Red\n",
    "\n",
    "# Add the stroke to the shape layer\n",
    "shape_layer.shapes.add(stroke)\n",
    "\n",
    "# Add the shape layer to the composition\n",
    "composition.layers.add(shape_layer)\n",
    "\n",
    "# Export the composition to a JSON file\n",
    "with open('circle_animation.json', 'w') as f:\n",
    "    f.write(composition.to_json())\n"
   ]
  },
  {
   "cell_type": "code",
   "execution_count": 5,
   "metadata": {},
   "outputs": [
    {
     "name": "stdout",
     "output_type": "stream",
     "text": [
      "{'result': 'OK', 'duration': '0:00:01.027238'}\n"
     ]
    }
   ],
   "source": [
    "# Import python packages\n",
    "from dataplane import s3_upload\n",
    "import os\n",
    "import boto3\n",
    "from botocore.client import Config\n",
    "from dotenv import load_dotenv\n",
    "import json\n",
    "\n",
    "\n",
    "load_dotenv()\n",
    "\n",
    "\n",
    "# 1. Account ID\n",
    "AccountID = os.environ[\"secret_dp_S3_ACCOUNT_ID\"]\n",
    "\n",
    "# 2. Bucket name\n",
    "Bucket = os.environ[\"secret_dp_BUCKET_NAME\"]\n",
    "\n",
    "# 3. Client access key\n",
    "ClientAccessKey = os.environ[\"secret_dp_S3_ACCESS_KEY\"]\n",
    "\n",
    "# 4. Client secret\n",
    "ClientSecret = os.environ[\"secret_dp_S3_SECRET\"]\n",
    "\n",
    "# 5. Connection url\n",
    "ConnectionUrl = f\"https://{AccountID}.r2.cloudflarestorage.com\"\n",
    "\n",
    "# Create a client to connect to Cloudflare's R2 Storage\n",
    "S3Connect = boto3.client(\n",
    "    's3',\n",
    "    endpoint_url=ConnectionUrl,\n",
    "    aws_access_key_id=ClientAccessKey,\n",
    "    aws_secret_access_key=ClientSecret,\n",
    "    config=Config(signature_version='s3v4'),\n",
    "    region_name='us-east-1'\n",
    ")\n",
    "# Define the path to the file you want to upload\n",
    "file_path = \"andy-holmes-rlHEHymgAD8-unsplash.jpg\"\n",
    "\n",
    "# Open the file in binary mode and read its contents\n",
    "with open(file_path, \"rb\") as f:\n",
    "    file_contents = f.read()\n",
    "\n",
    "# Upload to R2 using S3 compatible API\n",
    "rs = s3_upload(\n",
    "    Bucket=Bucket, \n",
    "    S3Client=S3Connect,\n",
    "    TargetFilePath=file_path,\n",
    "    SourceFilePath=file_path,\n",
    "    UploadObject=file_contents,\n",
    "    UploadMethod=\"Object\"\n",
    "    )\n",
    "print(rs)"
   ]
  }
 ],
 "metadata": {
  "kernelspec": {
   "display_name": "rss1",
   "language": "python",
   "name": "python3"
  },
  "language_info": {
   "codemirror_mode": {
    "name": "ipython",
    "version": 3
   },
   "file_extension": ".py",
   "mimetype": "text/x-python",
   "name": "python",
   "nbconvert_exporter": "python",
   "pygments_lexer": "ipython3",
   "version": "3.11.5"
  }
 },
 "nbformat": 4,
 "nbformat_minor": 2
}
