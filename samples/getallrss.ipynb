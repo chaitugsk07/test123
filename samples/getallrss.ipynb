{
 "cells": [
  {
   "cell_type": "code",
   "execution_count": 32,
   "metadata": {},
   "outputs": [],
   "source": [
    "from selenium import webdriver\n",
    "from selenium.webdriver.chrome.options import Options\n",
    "from selenium.webdriver.common.by import By\n",
    "import requests\n",
    "\n",
    "def insert_rss1_links(outlet, rss1_link_name, rss1_link, rss1_link_type, rss1_link_reliability):\n",
    "    print(outlet, rss1_link_name, rss1_link, rss1_link_type, rss1_link_reliability)\n",
    "    url = 'http://hasura.192.168.0.100.nip.io/v1/graphql'  # Replace with your Hasura endpoint\n",
    "    mutation_query = '''\n",
    "    mutation MyMutation($object: rss1_links_insert_input = {}) {\n",
    "    insert_rss1_links_one(object: $object) {\n",
    "        id\n",
    "    }\n",
    "    }\n",
    "    '''\n",
    "    mutation_variables = {\n",
    "        \"object\": {\n",
    "            \"outlet\": outlet,\n",
    "            \"rss1_link_name\": rss1_link_name,\n",
    "            \"rss1_link\": rss1_link,\n",
    "            \"rss1_link_type\": rss1_link_type,\n",
    "            \"rss1_link_reliability\": rss1_link_reliability\n",
    "        }\n",
    "    }\n",
    "    headers = {\n",
    "        'Content-Type': 'application/json',\n",
    "        'x-hasura-admin-secret': 'arrive@AD123'  # Replace with your Hasura admin secret\n",
    "    }\n",
    "    response = requests.post(url, json={'query': mutation_query, 'variables': mutation_variables}, headers=headers)\n",
    "    if response.ok:\n",
    "        data = response.json()\n",
    "        print(data)\n",
    "    else:\n",
    "        print(f\"Mutation failed with status code {response.status_code}: {response.text}\")\n"
   ]
  },
  {
   "cell_type": "code",
   "execution_count": 65,
   "metadata": {},
   "outputs": [],
   "source": [
    "def toi():\n",
    "    chrome_options = Options()\n",
    "    chrome_options.add_argument(\"--headless\")\n",
    "    driver = webdriver.Chrome(options=chrome_options)\n",
    "    url = \"https://timesofindia.indiatimes.com/rss.cms\"\n",
    "    driver.get(url)\n",
    "    driver.implicitly_wait(10)\n",
    "    elements = driver.find_elements(By.XPATH, '//*[@id=\"main-copy\"]/p[*]/table/tbody/tr[*]/td[1]/a')\n",
    "    print(len(elements))\n",
    "    for element in elements:\n",
    "        print(element.text, element.get_attribute(\"href\"))\n",
    "        insert_rss1_links(outlet = \"timesofindia\", rss1_link_name = element.text, rss1_link = element.get_attribute(\"href\"), rss1_link_type = 1, rss1_link_reliability = 10)\n",
    "    driver.quit()\n",
    "    \n",
    "def hindu():\n",
    "    chrome_options = Options()\n",
    "    chrome_options.add_argument(\"--headless\")\n",
    "    driver = webdriver.Chrome(options=chrome_options)\n",
    "    url = \"https://www.thehindu.com/rssfeeds/\"\n",
    "    driver.get(url)\n",
    "    driver.implicitly_wait(10)\n",
    "    elements = driver.find_elements(By.XPATH, '//*/li/a')\n",
    "    for element in elements:\n",
    "        if element.text != \"\" and element.get_attribute(\"href\")[-4:] == \".rss\":\n",
    "            insert_rss1_links(outlet = \"thehindu\", rss1_link_name = element.text, rss1_link = element.get_attribute(\"href\"), rss1_link_type = 1, rss1_link_reliability = 10)\n",
    "    driver.quit()\n",
    "\n",
    "def cnn():\n",
    "    chrome_options = Options()\n",
    "    chrome_options.add_argument(\"--headless\")\n",
    "    driver = webdriver.Chrome(options=chrome_options)\n",
    "    url = \"https://edition.cnn.com/services/rss/\"\n",
    "    driver.get(url)\n",
    "    driver.implicitly_wait(10)\n",
    "    elements = driver.find_elements(By.XPATH, '//*/td/a')\n",
    "    for element in elements:\n",
    "        if element.text.split(\"_\")[-1][:-4] != \"\" and element.get_attribute(\"href\")[-4:] == \".rss\":\n",
    "            insert_rss1_links(outlet = \"cnn\", rss1_link_name = element.text.split(\"_\")[-1][:-4], rss1_link = element.get_attribute(\"href\"), rss1_link_type = 1, rss1_link_reliability = 10)\n",
    "    driver.quit()\n",
    "\n",
    "def fox():\n",
    "    chrome_options = Options()\n",
    "    chrome_options.add_argument(\"--headless\")\n",
    "    driver = webdriver.Chrome(options=chrome_options)\n",
    "    url = \"https://www.foxnews.com/story/foxnews-com-rss-feeds\"\n",
    "    driver.get(url)\n",
    "    driver.implicitly_wait(10)\n",
    "    elements = driver.find_elements(By.XPATH, '//*/a')\n",
    "    for element in elements:\n",
    "        if element.text != \"\" and element.get_attribute(\"href\")[-4:] == \".xml\":\n",
    "            insert_rss1_links(outlet = \"foxnews\", rss1_link_name = element.text.split(\"/\")[-1][:-4], rss1_link = element.get_attribute(\"href\"), rss1_link_type = 1, rss1_link_reliability = 10)\n",
    "    driver.quit()"
   ]
  },
  {
   "cell_type": "code",
   "execution_count": 66,
   "metadata": {},
   "outputs": [
    {
     "name": "stdout",
     "output_type": "stream",
     "text": [
      "foxnews latest https://moxie.foxnews.com/google-publisher/latest.xml 1 10\n",
      "{'data': {'insert_rss1_links_one': {'id': 145}}}\n",
      "foxnews world https://moxie.foxnews.com/google-publisher/world.xml 1 10\n",
      "{'data': {'insert_rss1_links_one': {'id': 146}}}\n",
      "foxnews politics https://moxie.foxnews.com/google-publisher/politics.xml 1 10\n",
      "{'data': {'insert_rss1_links_one': {'id': 147}}}\n",
      "foxnews science https://moxie.foxnews.com/google-publisher/science.xml 1 10\n",
      "{'data': {'insert_rss1_links_one': {'id': 148}}}\n",
      "foxnews health https://moxie.foxnews.com/google-publisher/health.xml 1 10\n",
      "{'data': {'insert_rss1_links_one': {'id': 149}}}\n",
      "foxnews sports https://moxie.foxnews.com/google-publisher/sports.xml 1 10\n",
      "{'data': {'insert_rss1_links_one': {'id': 150}}}\n",
      "foxnews travel https://moxie.foxnews.com/google-publisher/travel.xml 1 10\n",
      "{'data': {'insert_rss1_links_one': {'id': 151}}}\n",
      "foxnews tech https://moxie.foxnews.com/google-publisher/tech.xml 1 10\n",
      "{'data': {'insert_rss1_links_one': {'id': 152}}}\n",
      "foxnews opinion https://moxie.foxnews.com/google-publisher/opinion.xml 1 10\n",
      "{'data': {'insert_rss1_links_one': {'id': 153}}}\n",
      "foxnews us https://moxie.foxnews.com/google-publisher/us.xml 1 10\n",
      "{'data': {'insert_rss1_links_one': {'id': 154}}}\n",
      "foxnews world https://moxie.foxnews.com/google-publisher/world.xml 1 10\n",
      "{'errors': [{'message': 'Uniqueness violation. duplicate key value violates unique constraint \"rss1_links_rss1_link_key\"', 'extensions': {'path': '$.selectionSet.insert_rss1_links_one.args.object', 'code': 'constraint-violation'}}]}\n"
     ]
    }
   ],
   "source": [
    "# hindu()\n",
    "# toi()\n",
    "# cnn()\n",
    "fox()"
   ]
  },
  {
   "cell_type": "code",
   "execution_count": 51,
   "metadata": {},
   "outputs": [],
   "source": [
    "chrome_options = Options()\n",
    "driver = webdriver.Chrome(options=chrome_options)\n",
    "url = \"https://www.foxnews.com/story/foxnews-com-rss-feeds\"\n",
    "driver.get(url)\n",
    "driver.implicitly_wait(10)"
   ]
  },
  {
   "cell_type": "code",
   "execution_count": 58,
   "metadata": {},
   "outputs": [
    {
     "name": "stdout",
     "output_type": "stream",
     "text": [
      "latest https://moxie.foxnews.com/google-publisher/latest.xml\n",
      "world https://moxie.foxnews.com/google-publisher/world.xml\n",
      "politics https://moxie.foxnews.com/google-publisher/politics.xml\n",
      "science https://moxie.foxnews.com/google-publisher/science.xml\n",
      "health https://moxie.foxnews.com/google-publisher/health.xml\n",
      "sports https://moxie.foxnews.com/google-publisher/sports.xml\n",
      "travel https://moxie.foxnews.com/google-publisher/travel.xml\n",
      "tech https://moxie.foxnews.com/google-publisher/tech.xml\n",
      "opinion https://moxie.foxnews.com/google-publisher/opinion.xml\n",
      "us https://moxie.foxnews.com/google-publisher/us.xml\n",
      "world https://moxie.foxnews.com/google-publisher/world.xml\n"
     ]
    }
   ],
   "source": [
    "elements = driver.find_elements(By.XPATH, '//*/a')\n",
    "for element in elements:\n",
    "    if element.text != \"\" and element.get_attribute(\"href\")[-4:] == \".xml\":\n",
    "        print(element.text.split(\"/\")[-1][:-4], element.get_attribute(\"href\"))"
   ]
  },
  {
   "cell_type": "code",
   "execution_count": 46,
   "metadata": {},
   "outputs": [
    {
     "name": "stdout",
     "output_type": "stream",
     "text": [
      "latest\n",
      "travel\n"
     ]
    }
   ],
   "source": [
    "url1 = \"http://rss.cnn.com/rss/cnn_latest.rss\"\n",
    "latest = url1.split(\"_\")[-1][:-4]\n",
    "print(latest)  # Output: \"latest\"\n",
    "\n",
    "url2 = \"http://rss.cnn.com/rss/edition_travel.rss\"\n",
    "travel = url2.split(\"_\")[-1][:-4]\n",
    "print(travel)  # Output: \"travel\""
   ]
  }
 ],
 "metadata": {
  "kernelspec": {
   "display_name": "rss1",
   "language": "python",
   "name": "python3"
  },
  "language_info": {
   "codemirror_mode": {
    "name": "ipython",
    "version": 3
   },
   "file_extension": ".py",
   "mimetype": "text/x-python",
   "name": "python",
   "nbconvert_exporter": "python",
   "pygments_lexer": "ipython3",
   "version": "3.10.12"
  },
  "orig_nbformat": 4
 },
 "nbformat": 4,
 "nbformat_minor": 2
}
