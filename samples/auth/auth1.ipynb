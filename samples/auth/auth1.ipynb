{
 "cells": [
  {
   "cell_type": "code",
   "execution_count": 3,
   "metadata": {},
   "outputs": [
    {
     "ename": "NameError",
     "evalue": "name 'app' is not defined",
     "output_type": "error",
     "traceback": [
      "\u001b[1;31m---------------------------------------------------------------------------\u001b[0m",
      "\u001b[1;31mNameError\u001b[0m                                 Traceback (most recent call last)",
      "\u001b[1;32mc:\\D_drive\\11_synopse\\30_git\\test123\\samples\\auth\\auth1.ipynb Cell 1\u001b[0m line \u001b[0;36m1\n\u001b[0;32m      <a href='vscode-notebook-cell:/c%3A/D_drive/11_synopse/30_git/test123/samples/auth/auth1.ipynb#W0sZmlsZQ%3D%3D?line=8'>9</a>\u001b[0m oauth \u001b[39m=\u001b[39m OAuth(starlette_config)\n\u001b[0;32m     <a href='vscode-notebook-cell:/c%3A/D_drive/11_synopse/30_git/test123/samples/auth/auth1.ipynb#W0sZmlsZQ%3D%3D?line=9'>10</a>\u001b[0m oauth\u001b[39m.\u001b[39mregister(\n\u001b[0;32m     <a href='vscode-notebook-cell:/c%3A/D_drive/11_synopse/30_git/test123/samples/auth/auth1.ipynb#W0sZmlsZQ%3D%3D?line=10'>11</a>\u001b[0m     name\u001b[39m=\u001b[39m\u001b[39m'\u001b[39m\u001b[39mgoogle\u001b[39m\u001b[39m'\u001b[39m,\n\u001b[0;32m     <a href='vscode-notebook-cell:/c%3A/D_drive/11_synopse/30_git/test123/samples/auth/auth1.ipynb#W0sZmlsZQ%3D%3D?line=11'>12</a>\u001b[0m     server_metadata_url\u001b[39m=\u001b[39m\u001b[39m'\u001b[39m\u001b[39mhttps://accounts.google.com/.well-known/openid-configuration\u001b[39m\u001b[39m'\u001b[39m,\n\u001b[0;32m     <a href='vscode-notebook-cell:/c%3A/D_drive/11_synopse/30_git/test123/samples/auth/auth1.ipynb#W0sZmlsZQ%3D%3D?line=12'>13</a>\u001b[0m     client_kwargs\u001b[39m=\u001b[39m{\u001b[39m'\u001b[39m\u001b[39mscope\u001b[39m\u001b[39m'\u001b[39m: \u001b[39m'\u001b[39m\u001b[39mopenid email profile\u001b[39m\u001b[39m'\u001b[39m},\n\u001b[0;32m     <a href='vscode-notebook-cell:/c%3A/D_drive/11_synopse/30_git/test123/samples/auth/auth1.ipynb#W0sZmlsZQ%3D%3D?line=13'>14</a>\u001b[0m )\n\u001b[1;32m---> <a href='vscode-notebook-cell:/c%3A/D_drive/11_synopse/30_git/test123/samples/auth/auth1.ipynb#W0sZmlsZQ%3D%3D?line=14'>15</a>\u001b[0m app\u001b[39m.\u001b[39madd_middleware(SessionMiddleware, secret_key\u001b[39m=\u001b[39m\u001b[39m'\u001b[39m\u001b[39mkqDU1WL8n4jC3PpD2_j6OKvMDyxAIOEl46r3pNis\u001b[39m\u001b[39m'\u001b[39m)\n",
      "\u001b[1;31mNameError\u001b[0m: name 'app' is not defined"
     ]
    }
   ],
   "source": [
    "import os\n",
    "from starlette.config import Config\n",
    "from authlib.integrations.starlette_client import OAuth\n",
    "from starlette.middleware.sessions import SessionMiddleware\n",
    "from fastapi import Request\n",
    "from starlette.responses import RedirectResponse\n",
    "from authlib.integrations.starlette_client import OAuthError\n",
    "from starlette.responses import HTMLResponse\n",
    "\n",
    "\n",
    "config_data = {'GOOGLE_CLIENT_ID': '456154860004-v6j31iem46hni8lcj204p7r72rqchhjp.apps.googleusercontent.com', 'GOOGLE_CLIENT_SECRET': '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'}\n",
    "starlette_config = Config(environ=config_data)\n",
    "oauth = OAuth(starlette_config)\n",
    "oauth.register(\n",
    "    name='google',\n",
    "    server_metadata_url='https://accounts.google.com/.well-known/openid-configuration',\n",
    "    client_kwargs={'scope': 'openid email profile'},\n",
    ")\n",
    "app.add_middleware(SessionMiddleware, secret_key='kqDU1WL8n4jC3PpD2_j6OKvMDyxAIOEl46r3pNis')\n",
    "\n",
    "@app.route('/login')\n",
    "async def login(request: Request):\n",
    "    redirect_uri = request.url_for('auth')  # This creates the url for the /auth endpoint\n",
    "    return await oauth.google.authorize_redirect(request, redirect_uri)\n",
    "\n",
    "\n",
    "@app.route('/auth')\n",
    "async def auth(request: Request):\n",
    "    try:\n",
    "        access_token = await oauth.google.authorize_access_token(request)\n",
    "    except OAuthError:\n",
    "        return RedirectResponse(url='/')\n",
    "    user_data = await oauth.google.parse_id_token(request, access_token)\n",
    "    request.session['user'] = dict(user_data)\n",
    "    return RedirectResponse(url='/')\n",
    "\n",
    "@app.get('/')\n",
    "def public(request: Request):\n",
    "    user = request.session.get('user')\n",
    "    if user:\n",
    "        name = user.get('name')\n",
    "        return HTMLResponse(f'<p>Hello {name}!</p><a href=/logout>Logout</a>')\n",
    "    return HTMLResponse('<a href=/login>Login</a>')\n",
    "\n",
    "\n",
    "@app.route('/logout')\n",
    "async def logout(request: Request):\n",
    "    request.session.pop('user', None)\n",
    "    return RedirectResponse(url='/')"
   ]
  },
  {
   "cell_type": "code",
   "execution_count": 2,
   "metadata": {},
   "outputs": [
    {
     "name": "stdout",
     "output_type": "stream",
     "text": [
      "kqDU1WL8n4jC3PpD2_j6OKvMDyxAIOEl46r3pNis\n"
     ]
    }
   ],
   "source": [
    "import secrets\n",
    "generated_key = secrets.token_urlsafe(30)\n",
    "print(generated_key)"
   ]
  }
 ],
 "metadata": {
  "kernelspec": {
   "display_name": "rss1",
   "language": "python",
   "name": "python3"
  },
  "language_info": {
   "codemirror_mode": {
    "name": "ipython",
    "version": 3
   },
   "file_extension": ".py",
   "mimetype": "text/x-python",
   "name": "python",
   "nbconvert_exporter": "python",
   "pygments_lexer": "ipython3",
   "version": "3.11.5"
  }
 },
 "nbformat": 4,
 "nbformat_minor": 2
}
