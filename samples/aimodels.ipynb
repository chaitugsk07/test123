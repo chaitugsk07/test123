{
 "cells": [
  {
   "cell_type": "code",
   "execution_count": 1,
   "metadata": {},
   "outputs": [
    {
     "ename": "ModuleNotFoundError",
     "evalue": "No module named 'ctransformers'",
     "output_type": "error",
     "traceback": [
      "\u001b[1;31m---------------------------------------------------------------------------\u001b[0m",
      "\u001b[1;31mModuleNotFoundError\u001b[0m                       Traceback (most recent call last)",
      "\u001b[1;32mc:\\D\\30_git\\test123\\samples\\aimodels.ipynb Cell 1\u001b[0m line \u001b[0;36m1\n\u001b[1;32m----> <a href='vscode-notebook-cell:/c%3A/D/30_git/test123/samples/aimodels.ipynb#X11sZmlsZQ%3D%3D?line=0'>1</a>\u001b[0m \u001b[39mfrom\u001b[39;00m \u001b[39mctransformers\u001b[39;00m \u001b[39mimport\u001b[39;00m AutoModelForCausalLM\n\u001b[0;32m      <a href='vscode-notebook-cell:/c%3A/D/30_git/test123/samples/aimodels.ipynb#X11sZmlsZQ%3D%3D?line=1'>2</a>\u001b[0m llm \u001b[39m=\u001b[39m AutoModelForCausalLM\u001b[39m.\u001b[39mfrom_pretrained(\u001b[39m\"\u001b[39m\u001b[39mTheBloke/Mistral-7B-Instruct-v0.1-GGUF\u001b[39m\u001b[39m\"\u001b[39m, \n\u001b[0;32m      <a href='vscode-notebook-cell:/c%3A/D/30_git/test123/samples/aimodels.ipynb#X11sZmlsZQ%3D%3D?line=2'>3</a>\u001b[0m model_file\u001b[39m=\u001b[39m\u001b[39m\"\u001b[39m\u001b[39mmistral-7b-instruct-v0.1.Q4_K_M.gguf\u001b[39m\u001b[39m\"\u001b[39m, \n\u001b[0;32m      <a href='vscode-notebook-cell:/c%3A/D/30_git/test123/samples/aimodels.ipynb#X11sZmlsZQ%3D%3D?line=3'>4</a>\u001b[0m model_type \u001b[39m=\u001b[39m \u001b[39m\"\u001b[39m\u001b[39mmistral\u001b[39m\u001b[39m\"\u001b[39m, gpu_layers \u001b[39m=\u001b[39m \u001b[39m50\u001b[39m)\n\u001b[0;32m      <a href='vscode-notebook-cell:/c%3A/D/30_git/test123/samples/aimodels.ipynb#X11sZmlsZQ%3D%3D?line=5'>6</a>\u001b[0m \u001b[39mdef\u001b[39;00m \u001b[39mcolab_print\u001b[39m(text, max_width \u001b[39m=\u001b[39m \u001b[39m120\u001b[39m):\n",
      "\u001b[1;31mModuleNotFoundError\u001b[0m: No module named 'ctransformers'"
     ]
    }
   ],
   "source": [
    "from ctransformers import AutoModelForCausalLM\n",
    "llm = AutoModelForCausalLM.from_pretrained(\"TheBloke/Mistral-7B-Instruct-v0.1-GGUF\", \n",
    "model_file=\"mistral-7b-instruct-v0.1.Q4_K_M.gguf\", \n",
    "model_type = \"mistral\", gpu_layers = 50)\n",
    "\n",
    "def colab_print(text, max_width = 120):\n",
    "  words = text.split()\n",
    "  line = \"\"\n",
    "  for word in words:\n",
    "    if len(line) + len(word) + 1 > max_width:\n",
    "      print(line)\n",
    "      line = \"\"\n",
    "    line += word + \" \"\n",
    "  print (line)\n",
    "\n",
    "colab_print(llm('''Give me a well-written paragraph in 5 sentences about a Senior Data \n",
    "Scientist (name - Suvojit) who writes blogs on LLMs on Analytics Vidhya. He studied \n",
    "Masters in AIML in BITS Pilani and works at AZ Company, with a total of 4 years of \n",
    "experience. Start the sentence with - Suvojit is a''', \n",
    "max_new_tokens = 2048, temperature = 0.9, top_k = 55, top_p = 0.93, \n",
    "repetition_penalty = 1.2))"
   ]
  },
  {
   "cell_type": "code",
   "execution_count": 1,
   "metadata": {},
   "outputs": [
    {
     "name": "stderr",
     "output_type": "stream",
     "text": [
      "c:\\Users\\gskch\\miniconda3\\envs\\syn1\\Lib\\site-packages\\tqdm\\auto.py:21: TqdmWarning: IProgress not found. Please update jupyter and ipywidgets. See https://ipywidgets.readthedocs.io/en/stable/user_install.html\n",
      "  from .autonotebook import tqdm as notebook_tqdm\n",
      "Fetching 1 files: 100%|██████████| 1/1 [00:00<?, ?it/s]\n",
      "Fetching 1 files:   0%|          | 0/1 [00:00<?, ?it/s]"
     ]
    }
   ],
   "source": [
    "import torch\n",
    "from ctransformers import AutoModelForCausalLM\n",
    "from transformers import AutoTokenizer, pipeline\n",
    "\n",
    "# Set gpu_layers to the number of layers to offload to GPU. Set to -1 to use GPU for all layers, 0 if no GPU acceleration is available on your system.\n",
    "model = AutoModelForCausalLM.from_pretrained(\n",
    "    \"TheBloke/Mistral-7B-Instruct-v0.1-GGUF\",\n",
    "    model_file=\"mistral-7b-instruct-v0.1.Q4_K_M.gguf\",\n",
    "    model_type=\"mistral\",\n",
    "    gpu_layers=-1,  # Set this to -1 to use GPU for all layers\n",
    "    hf=True\n",
    ")\n",
    "\n",
    "# Move the model to the GPU\n",
    "model.to('cuda')\n",
    "\n",
    "# Tokenizer\n",
    "tokenizer = AutoTokenizer.from_pretrained(\"mistralai/Mistral-7B-Instruct-v0.1\")\n",
    "\n",
    "# Pipeline\n",
    "generator = pipeline(\n",
    "    model=model,\n",
    "    tokenizer=tokenizer,\n",
    "    task='text-generation',\n",
    "    max_new_tokens=50,\n",
    "    repetition_penalty=1.1\n",
    ")\n",
    "\n",
    "# Prompt\n",
    "prompt = \"\"\"\n",
    "I have the following document:\n",
    "* The website mentions that it only takes a couple of days to deliver but I still have not received mine\n",
    "\n",
    "Extract 5 keywords from that document.\n",
    "\"\"\"\n",
    "\n",
    "# Run on GPU (CUDA)\n",
    "response = generator(prompt)\n",
    "\n",
    "print(response[0][\"generated_text\"])"
   ]
  },
  {
   "cell_type": "code",
   "execution_count": null,
   "metadata": {},
   "outputs": [],
   "source": []
  }
 ],
 "metadata": {
  "kernelspec": {
   "display_name": "rss1",
   "language": "python",
   "name": "python3"
  },
  "language_info": {
   "codemirror_mode": {
    "name": "ipython",
    "version": 3
   },
   "file_extension": ".py",
   "mimetype": "text/x-python",
   "name": "python",
   "nbconvert_exporter": "python",
   "pygments_lexer": "ipython3",
   "version": "3.11.6"
  },
  "orig_nbformat": 4
 },
 "nbformat": 4,
 "nbformat_minor": 2
}
