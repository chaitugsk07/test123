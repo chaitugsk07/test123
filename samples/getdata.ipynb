{
 "cells": [
  {
   "cell_type": "code",
   "execution_count": 138,
   "metadata": {},
   "outputs": [
    {
     "name": "stdout",
     "output_type": "stream",
     "text": [
      "[\"Chandrayaan 3: ISRO releases 3D pictures of the Moon's surface and we are wonderstruck!\", \"The Indian Space Research Organisation (ISRO) recently announced that its Vikram Lander has been put into sleep mode. However, what's even more exciting are the images it has captured. As Chandrayaan 3 marks the first mission on the southern lunar surface, people on the internet have been eagerly requesting more images of the moon's surface. ISRO has been periodically releasing these pictures, but now they've accomplished something unique. Just one day after ISRO revealed that Vikram Lander had been powered down and put to sleep, the space agency tweeted images of the lunar surface in 3D. To get the best view of these images, viewers are recommended to wear 3D glasses.\", 'ISRO has shared a 3D \\'anaglyph\\' image of Chandrayaan 3\\'s Vikram lander from the South Pole of the moon. This image looks quite unusual because the left channel displays the red channel, while the right one shows the green and blue channels. This combination results in some visually striking features. ISRO\\'s Twitter account posted the 3D moon picture, explaining that it was created using both left and right images captured through the NavCam Stereo on board. \"The Anaglyph presented here is created using NavCam Stereo Images, which consist of both a left and right image captured onboard the Pragyan Rover,\" said ISRO.', 'An anaglyph is a 3D representation of an object that is shown in three colours: red, blue, and green, from multiple viewpoints. In this 3D image, the left image is placed in the red channel, while the right one goes into the blue and green channels, giving it a cyan appearance. The differences in perspective create a stereo effect, providing a visual impression of three dimensions. To view these images properly, it is recommended to use red and cyan glasses.', 'These images were released after ISRO announced that Vikram Lander had been put to sleep on the morning of September 4th, around 8 a.m. IST. ISRO explained that once the data collected by the payloads is transmitted to Earth and their tasks are completed, they are turned off. It is anticipated that Vikram Lander and Pragyaan will be awakened again around September 22.', \"With the success of Chandrayaan 3, India has become the fourth country in the world to successfully land on the moon, bringing relief after the challenges faced during Chandrayaan 2's mission.\"]\n"
     ]
    }
   ],
   "source": [
    "from selenium import webdriver\n",
    "from selenium.webdriver.common.keys import Keys\n",
    "from selenium.webdriver.common.action_chains import ActionChains\n",
    "from selenium.webdriver.common.by import By\n",
    "import pyperclip\n",
    "import time\n",
    "\n",
    "# Set Edge options\n",
    "options = webdriver.EdgeOptions()\n",
    "\n",
    "options.use_chromium = True\n",
    "# Add immersive reader option\n",
    "options.add_argument('--enable-immersive-reader')\n",
    "\n",
    "# Open Edge browser with options\n",
    "driver = webdriver.Edge(options=options)\n",
    "\n",
    "# Navigate to the given URL\n",
    "driver.get(\"read://https://timesofindia.indiatimes.com/etimes/trending/chandrayaan-3-isro-releases-3d-pictures-of-the-moons-surface/articleshow/103425040.cms\")\n",
    "\n",
    "# Wait for the page to load\n",
    "time.sleep(5)\n",
    "# Select all text on the page and copy it to clipboard\n",
    "ActionChains(driver).key_down(Keys.CONTROL).send_keys('a').key_up(Keys.CONTROL).perform()\n",
    "ActionChains(driver).key_down(Keys.CONTROL).send_keys('c').key_up(Keys.CONTROL).perform()\n",
    "\n",
    "# Retrieve the text from the clipboard\n",
    "text = pyperclip.paste()\n",
    "text2 = text\n",
    "text3 = text2.split('\\n')\n",
    "text3 = [s.replace('\\r', '') for s in text3]\n",
    "special_chars = set(\"!@#$%^&*()_+[]{}|;:'\\\",.<>?\")\n",
    "text4 = [s for s in text3 if len(s) > 0 and (s[0] not in special_chars or s[-1] not in special_chars)]\n",
    "\n",
    "my_list = text4\n",
    "my_set = set()\n",
    "result = []\n",
    "for item in my_list:\n",
    "    if item not in my_set:\n",
    "        result.append(item)\n",
    "        my_set.add(item)\n",
    "print(result)\n"
   ]
  },
  {
   "cell_type": "code",
   "execution_count": 139,
   "metadata": {},
   "outputs": [],
   "source": [
    "driver.get(\"https://timesofindia.indiatimes.com/etimes/trending/chandrayaan-3-isro-releases-3d-pictures-of-the-moons-surface/articleshow/103425040.cms\")\n"
   ]
  },
  {
   "cell_type": "code",
   "execution_count": 148,
   "metadata": {},
   "outputs": [
    {
     "name": "stdout",
     "output_type": "stream",
     "text": [
      "[<selenium.webdriver.remote.webelement.WebElement (session=\"be9c63605bd8fd08c50ba6538ee6f41a\", element=\"F432F30B5D6899144770B0E0A6020006_element_17\")>]\n"
     ]
    }
   ],
   "source": [
    "elements = driver.find_elements(By.XPATH, \"\"\"//*/div/img[@alt=\"Chandrayaan 3: ISRO releases 3D pictures of the Moon's surface and we are wonderstruck!\"]\"\"\")\n",
    "print(elements)"
   ]
  },
  {
   "cell_type": "code",
   "execution_count": 149,
   "metadata": {},
   "outputs": [
    {
     "name": "stdout",
     "output_type": "stream",
     "text": [
      "https://static.toiimg.com/thumb/msid-103425114,imgsize-59234,width-800,height-600,resizemode-75/103425114.jpg\n"
     ]
    }
   ],
   "source": [
    "for element in elements:\n",
    "    print(element.get_attribute(\"src\"))"
   ]
  },
  {
   "cell_type": "code",
   "execution_count": 94,
   "metadata": {},
   "outputs": [],
   "source": [
    "import requests\n",
    "import requests\n",
    "import feedparser\n",
    "from datetime import datetime, timezone\n",
    "import re\n",
    "\n",
    "def query_hasura_graphql(endpoint, admin_key, query, variables):\n",
    "    headers = {\n",
    "        'Content-Type': 'application/json',\n",
    "        'x-hasura-admin-secret': f'{admin_key}'\n",
    "    }\n",
    "\n",
    "    data = {\n",
    "        'query': query,\n",
    "        'variables': variables\n",
    "    }\n",
    "    response = requests.post(endpoint, json=data, headers=headers)\n",
    "    if response.status_code == 200:\n",
    "        return response.json()\n",
    "    else:\n",
    "        print(f\"Request failed with status code {response.status_code}\")\n",
    "        return None"
   ]
  }
 ],
 "metadata": {
  "kernelspec": {
   "display_name": "rss1",
   "language": "python",
   "name": "python3"
  },
  "language_info": {
   "codemirror_mode": {
    "name": "ipython",
    "version": 3
   },
   "file_extension": ".py",
   "mimetype": "text/x-python",
   "name": "python",
   "nbconvert_exporter": "python",
   "pygments_lexer": "ipython3",
   "version": "3.10.12"
  },
  "orig_nbformat": 4
 },
 "nbformat": 4,
 "nbformat_minor": 2
}
