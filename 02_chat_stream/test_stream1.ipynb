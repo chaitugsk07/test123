{
 "cells": [
  {
   "cell_type": "code",
   "execution_count": 7,
   "metadata": {},
   "outputs": [],
   "source": [
    "from fastapi import FastAPI\n",
    "from queue import Queue\n",
    "import uvicorn\n",
    "# creating a fast application\n",
    "app = FastAPI()\n",
    "\n",
    "# initializing the queue\n",
    "streamer_queue = Queue()\n",
    "\n",
    "# fake data streamer\n",
    "def put_data():\n",
    "    some_i = 20\n",
    "    for i in range(20):\n",
    "      streamer_queue.put(some_i + i)\n",
    "      \n",
    "# Creation of thread \n",
    "def start_generation():\n",
    "    thread = Thread(target=put_data)\n",
    "    time.sleep(0.5)\n",
    "    thread.start()\n",
    "\n",
    "# This is an asynchronous function, as it has to wait for\n",
    "# the queue to be available\n",
    "async def serve_data():\n",
    "    # Optinal code to start generation - This can be started anywhere in the code\n",
    "    start_generation()\n",
    "\n",
    "    while True:\n",
    "        # Stopping the retreival process if queue gets empty\n",
    "        if streamer_queue.empty():\n",
    "            break\n",
    "        # Reading and returning the value from the queue\n",
    "        else:\n",
    "            value = streamer_queue.get()\n",
    "            yield str(value)\n",
    "            streamer_queue.task_done()\n",
    "        # Providing a buffer timer to the generator, so that we do not\n",
    "        # break on a false alarm i.e generator is taking time to generate\n",
    "        # but we are breaking because the queue is empty\n",
    "        # 2 is an arbitrary number that can be changed based on the choice of\n",
    "        # the developer\n",
    "        await asyncio.sleep(2)\n",
    "        \n",
    "# Using the endpoint by name /query-stream\n",
    "@app.get('/query-stream/')\n",
    "async def stream():\n",
    "# We use Streaming Response class of Fast API to use the streaming response\n",
    "    return StreamingResponse(serve_data(), media_type='text/event-stream')\n",
    "\n",
    "\n"
   ]
  },
  {
   "cell_type": "code",
   "execution_count": 14,
   "metadata": {},
   "outputs": [
    {
     "name": "stdout",
     "output_type": "stream",
     "text": [
      "b'30'\n",
      "b'31'\n",
      "b'32'\n",
      "b'33'\n",
      "b'34'\n",
      "b'35'\n",
      "b'36'\n",
      "b'37'\n",
      "b'38'\n",
      "b'39'\n",
      "b'40'\n",
      "b'41'\n"
     ]
    }
   ],
   "source": [
    "# using requests library to check the response\n",
    "import requests\n",
    "\n",
    "# the stream has started in the local host\n",
    "url = \"http://127.0.0.1:7000/query-stream/\"\n",
    "\n",
    "# sending a request and fetching a response which is stored in r\n",
    "with requests.get(url, stream=True) as r:\n",
    "    # printing response of each stream\n",
    "    for chunk in r.iter_content(1024):\n",
    "        print(chunk)"
   ]
  }
 ],
 "metadata": {
  "kernelspec": {
   "display_name": "syn1",
   "language": "python",
   "name": "python3"
  },
  "language_info": {
   "codemirror_mode": {
    "name": "ipython",
    "version": 3
   },
   "file_extension": ".py",
   "mimetype": "text/x-python",
   "name": "python",
   "nbconvert_exporter": "python",
   "pygments_lexer": "ipython3",
   "version": "3.11.6"
  }
 },
 "nbformat": 4,
 "nbformat_minor": 2
}
