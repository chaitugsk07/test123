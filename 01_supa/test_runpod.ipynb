import unittest
from unittest.mock import patch
from io import StringIO

class MyCodeTests(unittest.TestCase):
    def test_print_content(self):
        with patch('sys.stdout', new=StringIO()) as fake_out:
            # Replace `response.content` with the expected content
            response_content = b'This is the response content'
            print(response_content)
            print("asdasd")
            self.assertEqual(fake_out.getvalue().strip(), response_content.decode())

if __name__ == '__main__':
    unittest.main()