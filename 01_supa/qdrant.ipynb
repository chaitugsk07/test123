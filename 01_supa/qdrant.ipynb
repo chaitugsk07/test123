{
 "cells": [
  {
   "cell_type": "code",
   "execution_count": 2,
   "metadata": {},
   "outputs": [
    {
     "name": "stdout",
     "output_type": "stream",
     "text": [
      "collections=[]\n"
     ]
    }
   ],
   "source": [
    "\n",
    "from qdrant_client import QdrantClient\n",
    "\n",
    "qdrant_client = QdrantClient(\n",
    "    url=\"https://7de4f182-716b-4697-b1ce-8eb36ce47935.us-east4-0.gcp.cloud.qdrant.io:6333\", \n",
    "    api_key=\"UPBhHJ7q9-67JQCDpX_LNjnObDkBPQOrpihk8v6bffQHYf4DhiWpeg\",\n",
    ")\n",
    "\n",
    "print(qdrant_client.get_collections())"
   ]
  }
 ],
 "metadata": {
  "kernelspec": {
   "display_name": "syn1",
   "language": "python",
   "name": "python3"
  },
  "language_info": {
   "codemirror_mode": {
    "name": "ipython",
    "version": 3
   },
   "file_extension": ".py",
   "mimetype": "text/x-python",
   "name": "python",
   "nbconvert_exporter": "python",
   "pygments_lexer": "ipython3",
   "version": "3.11.6"
  }
 },
 "nbformat": 4,
 "nbformat_minor": 2
}
